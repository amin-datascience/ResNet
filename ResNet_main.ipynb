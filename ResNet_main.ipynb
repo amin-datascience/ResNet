{
  "nbformat": 4,
  "nbformat_minor": 0,
  "metadata": {
    "colab": {
      "name": "ResNet-main.ipynb",
      "provenance": [],
      "collapsed_sections": []
    },
    "kernelspec": {
      "name": "python3",
      "display_name": "Python 3"
    },
    "language_info": {
      "name": "python"
    },
    "accelerator": "GPU"
  },
  "cells": [
    {
      "cell_type": "code",
      "metadata": {
        "id": "7Hp8MAHKVyK0"
      },
      "source": [
        "import torch \n",
        "import torch.nn as nn \n",
        "from torchvision import datasets\n",
        "from torchvision import transforms\n",
        "from torch.optim.lr_scheduler import StepLR\n",
        "from torch.optim.lr_scheduler import ReduceLROnPlateau\n",
        "import matplotlib.pyplot as plt"
      ],
      "execution_count": null,
      "outputs": []
    },
    {
      "cell_type": "code",
      "metadata": {
        "colab": {
          "base_uri": "https://localhost:8080/"
        },
        "id": "Tsm660d0xul9",
        "outputId": "5a323342-7a42-42fa-b747-5418e3e9ab2c"
      },
      "source": [
        "#MOUNTING GOOGLE DRIVE\n",
        "from google.colab import drive\n",
        "drive.mount('/content/gdrive')\n"
      ],
      "execution_count": null,
      "outputs": [
        {
          "output_type": "stream",
          "text": [
            "Mounted at /content/gdrive\n"
          ],
          "name": "stdout"
        }
      ]
    },
    {
      "cell_type": "code",
      "metadata": {
        "colab": {
          "resources": {
            "http://localhost:8080/nbextensions/google.colab/files.js": {
              "data": "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",
              "ok": true,
              "headers": [
                [
                  "content-type",
                  "application/javascript"
                ]
              ],
              "status": 200,
              "status_text": ""
            }
          },
          "base_uri": "https://localhost:8080/",
          "height": 73
        },
        "id": "kpuVEsdbahkg",
        "outputId": "996e17c9-8fba-49be-8bd9-2183dbb62154"
      },
      "source": [
        "from google.colab import files\n",
        "uploaded = files.upload()"
      ],
      "execution_count": null,
      "outputs": [
        {
          "output_type": "display_data",
          "data": {
            "text/html": [
              "\n",
              "     <input type=\"file\" id=\"files-e1e13406-c9b2-432b-b1bd-5139e3b7a900\" name=\"files[]\" multiple disabled\n",
              "        style=\"border:none\" />\n",
              "     <output id=\"result-e1e13406-c9b2-432b-b1bd-5139e3b7a900\">\n",
              "      Upload widget is only available when the cell has been executed in the\n",
              "      current browser session. Please rerun this cell to enable.\n",
              "      </output>\n",
              "      <script src=\"/nbextensions/google.colab/files.js\"></script> "
            ],
            "text/plain": [
              "<IPython.core.display.HTML object>"
            ]
          },
          "metadata": {
            "tags": []
          }
        },
        {
          "output_type": "stream",
          "text": [
            "Saving resnet20-12fca82f.th to resnet20-12fca82f.th\n"
          ],
          "name": "stdout"
        }
      ]
    },
    {
      "cell_type": "code",
      "metadata": {
        "colab": {
          "base_uri": "https://localhost:8080/"
        },
        "id": "aXEqx0DaV9cU",
        "outputId": "8ecf757f-b691-4584-9bbd-129b99365147"
      },
      "source": [
        "#READING DATA\n",
        "\n",
        "path = '/content/gdrive/My Drive/'\n",
        "#cifar10 = datasets.CIFAR10(path, train = True, download = True) # NOT NECESSARY\n",
        "#cifar10_test = datasets.CIFAR10(path, train = False, download = False) # NOT NECESSARY\n",
        "\n",
        "\n",
        "cifar10_tensor = datasets.CIFAR10(path, train = True, download = True, transform = transforms.ToTensor())\n",
        "cifar10_test_tensor = datasets.CIFAR10(path, train = False, download = False, transform = transforms.ToTensor())\n",
        "\n",
        "\n",
        "#to_tensor = transforms.ToTensor() \n",
        "#cifar10_tensor = to_tensor(cifar10) # FOR A SINGLE IMAGE"
      ],
      "execution_count": null,
      "outputs": [
        {
          "output_type": "stream",
          "text": [
            "Files already downloaded and verified\n"
          ],
          "name": "stdout"
        }
      ]
    },
    {
      "cell_type": "markdown",
      "metadata": {
        "id": "fRs38AfwYBIC"
      },
      "source": [
        "<br><br><br><br><br><br><br>\n",
        "***PREPROCESSING***"
      ]
    },
    {
      "cell_type": "code",
      "metadata": {
        "id": "uARUIqN5V99V"
      },
      "source": [
        "# NORMALIZING OUR DATA\n",
        "\n",
        "imgs = torch.stack([img for img, _ in cifar10_tensor], dim = 3)\n",
        "\n",
        "mean = imgs.view(3, -1).mean(dim = 1)\n",
        "std = imgs.view(3, -1).std(dim = 1)\n",
        "\n",
        "transformed_cifar10 = datasets.CIFAR10(path, train = True, \n",
        "                                       transform = transforms.Compose([transforms.ToTensor(), \n",
        "                                                                       transforms.Normalize(mean, std)]))\n",
        "\n",
        "transformed_cifar10_test = datasets.CIFAR10(path, train = False, \n",
        "                                            transform = transforms.Compose([transforms.ToTensor(), \n",
        "                                                                            transforms.Normalize(mean, std)]))\n",
        "\n",
        "train, validation = torch.utils.data.random_split(transformed_cifar10, [45000, 5000])\n",
        "\n",
        "train_loader = torch.utils.data.DataLoader(train, batch_size = 128, shuffle = True, drop_last = True)\n",
        "test_loader = torch.utils.data.DataLoader(transformed_cifar10_test, batch_size = 128, shuffle= True, drop_last = True)   \n",
        "val_loader = torch.utils.data.DataLoader(validation, batch_size = 128, shuffle = True, drop_last = True)                                                                         "
      ],
      "execution_count": null,
      "outputs": []
    },
    {
      "cell_type": "code",
      "metadata": {
        "id": "GolcmH2OmNix"
      },
      "source": [
        ""
      ],
      "execution_count": null,
      "outputs": []
    },
    {
      "cell_type": "markdown",
      "metadata": {
        "id": "EK69bq1bojWB"
      },
      "source": [
        "<br><br><br><br><br><br>\n",
        "***Implementing ResNet***"
      ]
    },
    {
      "cell_type": "code",
      "metadata": {
        "id": "5BrdvBEMo0R0"
      },
      "source": [
        "class BasicBlock(nn.Module):\n",
        "    '''\n",
        "    This block will be used many times throughout the network\n",
        "    '''\n",
        "\n",
        "    def __init__(self, in_channels, out_channels, identity_downsample = None, stride = 1):\n",
        "        super(BasicBlock, self).__init__()\n",
        "\n",
        "        self.conv1 = nn.Conv2d(in_channels, out_channels, kernel_size = 3, stride = stride, padding = 1) #THE STRIDE SHOULD BE 2\n",
        "        self.bn1 = nn.BatchNorm2d(out_channels)\n",
        "        self.conv2 = nn.Conv2d(out_channels, out_channels, kernel_size = 3, stride = 1, padding = 1)\n",
        "        self.bn2 = nn.BatchNorm2d(out_channels)\n",
        "        self.relu = nn.ReLU()\n",
        "        self.identity_downsample = identity_downsample \n",
        "\n",
        "\n",
        "    def forward(self, x):\n",
        "        identity = x\n",
        "        x = self.conv1(x)\n",
        "        x = self.bn1(x) #Batchnorm is used before activation\n",
        "        x = self.relu(x)\n",
        "        x = self.conv2(x)\n",
        "        x = self.bn2(x)\n",
        "        x = self.relu(x)\n",
        "\n",
        "\n",
        "        if self.identity_downsample is not None:\n",
        "            identity = self.identity_downsample(identity)\n",
        "\n",
        "        x += identity \n",
        "        x = self.relu(x)\n",
        "        return x \n",
        "\n",
        "\n",
        "class ResNet(nn.Module):\n",
        "    '''\n",
        "    layers: list (how many times do we want to use basic blocks)\n",
        "    ResNet 20: [3, 3, 3]\n",
        "    '''\n",
        "    def __init__(self, basicblock, layers, img_channels, num_classes):\n",
        "        super(ResNet, self).__init__()\n",
        "        self.in_channels = 16\n",
        "        self.conv1 = nn.Conv2d(img_channels, 16, kernel_size = 3, stride = 1, padding = 1)\n",
        "        self.bn1 = nn.BatchNorm2d(16)\n",
        "        self.relu = nn.ReLU()\n",
        "\n",
        "        \n",
        "        self.layer1 = self._make_layer(basicblock, num_residual_blocks = layers[0], out_channels = 16)# 3 \n",
        "        self.layer2 = self._make_layer(basicblock, num_residual_blocks = layers[1], out_channels = 32, stride = 2) \n",
        "        self.layer3 = self._make_layer(basicblock, num_residual_blocks = layers[2], out_channels = 64, stride = 2)\n",
        "       \n",
        "        self.avg_pool = nn.AvgPool2d((8, 8))\n",
        "        self.fc = nn.Linear(64, num_classes)\n",
        "\n",
        "\n",
        "    def forward(self, x):\n",
        "        x = self.conv1(x)\n",
        "        x = self.bn1(x)\n",
        "        x = self.relu(x)\n",
        "\n",
        "        x = self.layer1(x)\n",
        "        x = self.layer2(x)\n",
        "        x = self.layer3(x)\n",
        "\n",
        "        x = self.avg_pool(x)\n",
        "        x = x.reshape(x.shape[0], -1)\n",
        "            \n",
        "        x = self.fc(x)\n",
        "\n",
        "        return x \n",
        "       \n",
        "\n",
        "    def _make_layer(self, basicblock, num_residual_blocks, out_channels, stride = 1):\n",
        "\n",
        "        identity_downsample = None\n",
        "        layers = [] \n",
        "        \n",
        "        if stride != 1 or self.in_channels != out_channels:\n",
        "            identity_downsample = nn.Sequential(nn.Conv2d(self.in_channels, out_channels, kernel_size = 1, stride = 2), \n",
        "                                                nn.BatchNorm2d(out_channels))\n",
        "        \n",
        "        layers.append(basicblock(self.in_channels, out_channels, identity_downsample, stride))\n",
        "        self.in_channels = out_channels \n",
        "        \n",
        "        for i in range(num_residual_blocks - 1):\n",
        "            layers.append(basicblock(out_channels, out_channels))\n",
        "\n",
        "        return nn.Sequential(*layers)\n",
        "\n",
        "\n",
        "\n",
        " \n"
      ],
      "execution_count": null,
      "outputs": []
    },
    {
      "cell_type": "code",
      "metadata": {
        "id": "-PLNwrWppNvn",
        "colab": {
          "base_uri": "https://localhost:8080/"
        },
        "outputId": "9a152ea6-5196-4a9f-f2aa-045de31edbb2"
      },
      "source": [
        "#TRAINING\n",
        "device = torch.device('cuda' if torch.cuda.is_available() else 'cpu')\n",
        "model = ResNet(BasicBlock, layers = [3, 3, 3], img_channels = 3, num_classes = 10).to(device)\n",
        "\n",
        "\n",
        "def training_loop(train_loader, optimizer, model, loss_func, max_epochs = 20, validation_loader = None, \n",
        "                  batch_size = 64 , scheduler = None):\n",
        "   \n",
        "    #LOSS AND OPTIMIZER ---\n",
        "    n_batches_train = len(train_loader)\n",
        "    n_batches_val = len(val_loader)\n",
        "    n_training_samples = n_batches_train * batch_size\n",
        "    n_val_samples = n_batches_val * batch_size\n",
        "\n",
        "    losses = []\n",
        "    accuracy = []\n",
        "    val_loss = []\n",
        "    val_accuracy = []\n",
        "    for epoch in range(max_epochs):\n",
        "        running_loss, correct = 0, 0\n",
        "        for i, (images, labels) in enumerate(train_loader):\n",
        "            if torch.cuda.is_available:\n",
        "                batch = images.to(device)\n",
        "                labels = labels.to(device)\n",
        "\n",
        "            #FORWARD PASS    \n",
        "            outputs = model(batch)\n",
        "            loss = criterion(outputs, labels)  \n",
        "            _, predictions =  outputs.max(1)\n",
        "            correct += int((predictions == labels).sum())\n",
        "            running_loss += loss.item()\n",
        "            \n",
        "            #BACKWARD AND OPTIMZIE \n",
        "            optimizer.zero_grad()\n",
        "            loss.backward()\n",
        "            optimizer.step()\n",
        "        \n",
        "        loss_epoch = running_loss / n_batches_train\n",
        "        accuracy_epoch = correct / n_training_samples\n",
        "        #scheduler.step(loss_epoch)\n",
        "\n",
        "        losses.append(loss_epoch)\n",
        "        accuracy.append(accuracy_epoch)\n",
        "\n",
        "        print('Epoch [{}/{}], Training Accuracy [{:.4f}], Training Loss: {:.4f}'\n",
        "            .format(epoch + 1, max_epochs, accuracy_epoch, loss_epoch), end = '\\t, ')\n",
        "        \n",
        "        #VALIDATION \n",
        "        if val_loader:\n",
        "            model.eval()\n",
        "            running_loss, correct = 0, 0\n",
        "            for images, labels in val_loader:\n",
        "                if torch.cuda.is_available():\n",
        "                    batch = images.to(device)\n",
        "                    labels = labels.to(device)\n",
        "\n",
        "                outputs = model(batch)\n",
        "                loss = criterion(outputs, labels)\n",
        "                _, predictions = outputs.max(1)\n",
        "                correct += int((predictions == labels).sum())\n",
        "                running_loss += loss.item()\n",
        "        \n",
        "            loss_val = running_loss / n_batches_val\n",
        "            accuracy_val = correct / n_val_samples\n",
        "\n",
        "            val_loss.append(loss_val)\n",
        "            val_accuracy.append(accuracy_val)\n",
        "            \n",
        "            scheduler.step(loss_val)\n",
        "    \n",
        "            print('Validation accuracy [{:.4f}], Validation Loss: {:.4f}'\n",
        "                .format(accuracy_val, loss_val))\n",
        "    \n",
        "    #SAVING THE MODEL\n",
        "    model_save_name = 'resnet20.pt'\n",
        "    path = F\"/content/gdrive/My Drive/{model_save_name}\" \n",
        "    torch.save(model.state_dict(), path)\n",
        "\n",
        "\n",
        "    return {'loss': losses, 'accuracy': accuracy, \n",
        "                'val_loss': val_loss, 'val_accuracy': val_accuracy}\n",
        "\n",
        "\n",
        "\n",
        "#CALLING THE TRAINING LOOP--------------------------------------------------------------\n",
        "\n",
        "criterion = nn.CrossEntropyLoss()\n",
        "#optimizer = torch.optim.SGD(model.parameters(), lr = 0.001, weight_decay = 1e-4, momentum = 0.9)\n",
        "optimizer = torch.optim.Adam(model.parameters(), lr = 0.001, weight_decay = 1e-3)\n",
        "#optimizer = torch.optim.RMSprop(model.parameters(), lr = 0.001, weight_decay = 1e-4, momentum = 0.9)\n",
        "\n",
        "#scheduler = StepLR(optimizer, step_size = 15, gamma = 0.1)\n",
        "scheduler = ReduceLROnPlateau(optimizer, 'min', patience = 5)\n",
        "\n",
        "history = training_loop(train_loader, optimizer, model, criterion, validation_loader = val_loader, \n",
        "                        scheduler = scheduler, max_epochs = 60, batch_size = 128)\n",
        "                        \n"
      ],
      "execution_count": null,
      "outputs": [
        {
          "output_type": "stream",
          "text": [
            "Epoch [1/60], Training Accuracy [0.5103], Training Loss: 1.3362\t, Validation accuracy [0.5198], Validation Loss: 1.4116\n",
            "Epoch [2/60], Training Accuracy [0.4105], Training Loss: 1.5911\t, Validation accuracy [0.5519], Validation Loss: 1.2422\n",
            "Epoch [3/60], Training Accuracy [0.5685], Training Loss: 1.1802\t, Validation accuracy [0.6102], Validation Loss: 1.0838\n",
            "Epoch [4/60], Training Accuracy [0.6166], Training Loss: 1.0553\t, Validation accuracy [0.6364], Validation Loss: 0.9971\n",
            "Epoch [5/60], Training Accuracy [0.6529], Training Loss: 0.9591\t, Validation accuracy [0.6665], Validation Loss: 0.9494\n",
            "Epoch [6/60], Training Accuracy [0.6729], Training Loss: 0.9058\t, Validation accuracy [0.6787], Validation Loss: 0.9077\n",
            "Epoch [7/60], Training Accuracy [0.6891], Training Loss: 0.8595\t, Validation accuracy [0.6881], Validation Loss: 0.8908\n",
            "Epoch [8/60], Training Accuracy [0.7097], Training Loss: 0.8070\t, Validation accuracy [0.7019], Validation Loss: 0.8317\n",
            "Epoch [9/60], Training Accuracy [0.7170], Training Loss: 0.7884\t, Validation accuracy [0.7149], Validation Loss: 0.8189\n",
            "Epoch [10/60], Training Accuracy [0.7315], Training Loss: 0.7558\t, Validation accuracy [0.7085], Validation Loss: 0.8396\n",
            "Epoch [11/60], Training Accuracy [0.7388], Training Loss: 0.7343\t, Validation accuracy [0.7216], Validation Loss: 0.8170\n",
            "Epoch [12/60], Training Accuracy [0.7547], Training Loss: 0.6915\t, Validation accuracy [0.7232], Validation Loss: 0.8036\n",
            "Epoch [13/60], Training Accuracy [0.7650], Training Loss: 0.6619\t, Validation accuracy [0.7366], Validation Loss: 0.7556\n",
            "Epoch [14/60], Training Accuracy [0.7718], Training Loss: 0.6481\t, Validation accuracy [0.7690], Validation Loss: 0.6717\n",
            "Epoch [15/60], Training Accuracy [0.7795], Training Loss: 0.6223\t, Validation accuracy [0.7424], Validation Loss: 0.7410\n",
            "Epoch [16/60], Training Accuracy [0.7886], Training Loss: 0.5993\t, Validation accuracy [0.7622], Validation Loss: 0.6969\n",
            "Epoch [17/60], Training Accuracy [0.7932], Training Loss: 0.5834\t, Validation accuracy [0.7490], Validation Loss: 0.7398\n",
            "Epoch [18/60], Training Accuracy [0.7967], Training Loss: 0.5774\t, Validation accuracy [0.7732], Validation Loss: 0.6630\n",
            "Epoch [19/60], Training Accuracy [0.8055], Training Loss: 0.5513\t, Validation accuracy [0.7660], Validation Loss: 0.6863\n",
            "Epoch [20/60], Training Accuracy [0.8144], Training Loss: 0.5285\t, Validation accuracy [0.7786], Validation Loss: 0.6462\n",
            "Epoch [21/60], Training Accuracy [0.8108], Training Loss: 0.5293\t, Validation accuracy [0.7730], Validation Loss: 0.6770\n",
            "Epoch [22/60], Training Accuracy [0.8198], Training Loss: 0.5123\t, Validation accuracy [0.7728], Validation Loss: 0.6600\n",
            "Epoch [23/60], Training Accuracy [0.8241], Training Loss: 0.5012\t, Validation accuracy [0.7660], Validation Loss: 0.6896\n",
            "Epoch [24/60], Training Accuracy [0.8308], Training Loss: 0.4820\t, Validation accuracy [0.7790], Validation Loss: 0.6571\n",
            "Epoch [25/60], Training Accuracy [0.8313], Training Loss: 0.4722\t, Validation accuracy [0.7955], Validation Loss: 0.6036\n",
            "Epoch [26/60], Training Accuracy [0.8390], Training Loss: 0.4565\t, Validation accuracy [0.7865], Validation Loss: 0.6225\n",
            "Epoch [27/60], Training Accuracy [0.8392], Training Loss: 0.4514\t, Validation accuracy [0.8017], Validation Loss: 0.5911\n",
            "Epoch [28/60], Training Accuracy [0.8468], Training Loss: 0.4341\t, Validation accuracy [0.8039], Validation Loss: 0.5845\n",
            "Epoch [29/60], Training Accuracy [0.8504], Training Loss: 0.4270\t, Validation accuracy [0.8013], Validation Loss: 0.6055\n",
            "Epoch [30/60], Training Accuracy [0.8526], Training Loss: 0.4154\t, Validation accuracy [0.7885], Validation Loss: 0.6408\n",
            "Epoch [31/60], Training Accuracy [0.8565], Training Loss: 0.4045\t, Validation accuracy [0.7979], Validation Loss: 0.6115\n",
            "Epoch [32/60], Training Accuracy [0.8599], Training Loss: 0.3941\t, Validation accuracy [0.7999], Validation Loss: 0.6071\n",
            "Epoch [33/60], Training Accuracy [0.8598], Training Loss: 0.3992\t, Validation accuracy [0.7790], Validation Loss: 0.6657\n",
            "Epoch [34/60], Training Accuracy [0.8670], Training Loss: 0.3803\t, Validation accuracy [0.7965], Validation Loss: 0.6306\n",
            "Epoch [35/60], Training Accuracy [0.9142], Training Loss: 0.2493\t, Validation accuracy [0.8257], Validation Loss: 0.5676\n",
            "Epoch [36/60], Training Accuracy [0.9231], Training Loss: 0.2253\t, Validation accuracy [0.8251], Validation Loss: 0.5888\n",
            "Epoch [37/60], Training Accuracy [0.9264], Training Loss: 0.2152\t, Validation accuracy [0.8255], Validation Loss: 0.5899\n",
            "Epoch [38/60], Training Accuracy [0.9298], Training Loss: 0.2086\t, Validation accuracy [0.8253], Validation Loss: 0.5971\n",
            "Epoch [39/60], Training Accuracy [0.9317], Training Loss: 0.2029\t, Validation accuracy [0.8167], Validation Loss: 0.6202\n",
            "Epoch [40/60], Training Accuracy [0.9345], Training Loss: 0.1951\t, Validation accuracy [0.8235], Validation Loss: 0.5940\n",
            "Epoch [41/60], Training Accuracy [0.9371], Training Loss: 0.1905\t, Validation accuracy [0.8215], Validation Loss: 0.6199\n",
            "Epoch [42/60], Training Accuracy [0.9472], Training Loss: 0.1683\t, Validation accuracy [0.8247], Validation Loss: 0.6194\n",
            "Epoch [43/60], Training Accuracy [0.9476], Training Loss: 0.1658\t, Validation accuracy [0.8257], Validation Loss: 0.6186\n",
            "Epoch [44/60], Training Accuracy [0.9481], Training Loss: 0.1642\t, Validation accuracy [0.8239], Validation Loss: 0.6270\n",
            "Epoch [45/60], Training Accuracy [0.9486], Training Loss: 0.1638\t, Validation accuracy [0.8209], Validation Loss: 0.6293\n",
            "Epoch [46/60], Training Accuracy [0.9490], Training Loss: 0.1626\t, Validation accuracy [0.8243], Validation Loss: 0.6287\n",
            "Epoch [47/60], Training Accuracy [0.9490], Training Loss: 0.1618\t, Validation accuracy [0.8231], Validation Loss: 0.6324\n",
            "Epoch [48/60], Training Accuracy [0.9505], Training Loss: 0.1593\t, Validation accuracy [0.8249], Validation Loss: 0.6285\n",
            "Epoch [49/60], Training Accuracy [0.9504], Training Loss: 0.1590\t, Validation accuracy [0.8247], Validation Loss: 0.6303\n",
            "Epoch [50/60], Training Accuracy [0.9505], Training Loss: 0.1585\t, Validation accuracy [0.8247], Validation Loss: 0.6322\n",
            "Epoch [51/60], Training Accuracy [0.9504], Training Loss: 0.1587\t, Validation accuracy [0.8241], Validation Loss: 0.6334\n",
            "Epoch [52/60], Training Accuracy [0.9506], Training Loss: 0.1586\t, Validation accuracy [0.8247], Validation Loss: 0.6324\n",
            "Epoch [53/60], Training Accuracy [0.9506], Training Loss: 0.1586\t, Validation accuracy [0.8245], Validation Loss: 0.6339\n",
            "Epoch [54/60], Training Accuracy [0.9508], Training Loss: 0.1581\t, Validation accuracy [0.8251], Validation Loss: 0.6324\n",
            "Epoch [55/60], Training Accuracy [0.9507], Training Loss: 0.1581\t, Validation accuracy [0.8257], Validation Loss: 0.6319\n",
            "Epoch [56/60], Training Accuracy [0.9509], Training Loss: 0.1581\t, Validation accuracy [0.8249], Validation Loss: 0.6335\n",
            "Epoch [57/60], Training Accuracy [0.9507], Training Loss: 0.1581\t, Validation accuracy [0.8251], Validation Loss: 0.6334\n",
            "Epoch [58/60], Training Accuracy [0.9508], Training Loss: 0.1581\t, Validation accuracy [0.8247], Validation Loss: 0.6340\n",
            "Epoch [59/60], Training Accuracy [0.9508], Training Loss: 0.1579\t, Validation accuracy [0.8249], Validation Loss: 0.6339\n",
            "Epoch [60/60], Training Accuracy [0.9507], Training Loss: 0.1581\t, Validation accuracy [0.8245], Validation Loss: 0.6343\n"
          ],
          "name": "stdout"
        }
      ]
    },
    {
      "cell_type": "code",
      "metadata": {
        "id": "vefvKYM74uTj",
        "colab": {
          "base_uri": "https://localhost:8080/"
        },
        "outputId": "6fb36da0-09b3-4f49-e7f1-7cbde05ede25"
      },
      "source": [
        "#TESTING \n",
        "correct = 0\n",
        "total = 0\n",
        "\n",
        "\n",
        "with torch.no_grad():\n",
        "    model.eval()\n",
        "    for images, labels in test_loader:\n",
        "        if torch.cuda.is_available():\n",
        "            batch = images.to(device)\n",
        "            labels = labels.to(device)\n",
        "           \n",
        "            batch_size = images.shape[0]\n",
        "            outputs = model(batch)\n",
        "            _, predictions = outputs.max(1)\n",
        "            correct += int((predictions == labels).sum())\n",
        "            total += batch_size\n",
        "\n",
        "print('Test Accuracy: {:.4f}'.format(correct / total))"
      ],
      "execution_count": null,
      "outputs": [
        {
          "output_type": "stream",
          "text": [
            "Test Accuracy: 0.8154\n"
          ],
          "name": "stdout"
        }
      ]
    },
    {
      "cell_type": "markdown",
      "metadata": {
        "id": "pPimapQhiX1r"
      },
      "source": [
        ""
      ]
    },
    {
      "cell_type": "code",
      "metadata": {
        "colab": {
          "base_uri": "https://localhost:8080/",
          "height": 513
        },
        "id": "kNxl2kbriWOl",
        "outputId": "72dae9d0-1231-4a47-8eb4-492508770845"
      },
      "source": [
        "loss = history['loss']\n",
        "accuracy = history['accuracy']\n",
        "val_loss = history['val_loss']\n",
        "val_accuracy = history['val_accuracy']\n",
        "\n",
        "\n",
        "plt.figure(figsize = (10, 8))\n",
        "plt.plot(loss, label = 'loss')\n",
        "plt.plot(accuracy, label = 'accuracy')\n",
        "plt.plot(val_loss, label = 'validation loss')\n",
        "plt.plot(val_accuracy, label = 'validation accuracy')\n",
        "plt.title('The performance of the model with Adam optimizer')\n",
        "plt.xlabel('epochs')\n",
        "plt.legend(loc = 'best')\n",
        "plt.show()\n"
      ],
      "execution_count": null,
      "outputs": [
        {
          "output_type": "display_data",
          "data": {
            "image/png": "[encoded data removed]",
            "text/plain": [
              "<Figure size 720x576 with 1 Axes>"
            ]
          },
          "metadata": {
            "tags": [],
            "needs_background": "light"
          }
        }
      ]
    },
    {
      "cell_type": "code",
      "metadata": {
        "colab": {
          "base_uri": "https://localhost:8080/"
        },
        "id": "Ga030INWZYLp",
        "outputId": "34cb1c07-c0f3-4584-c4be-78e8e7240813"
      },
      "source": [
        "#TRAINABLE PARAMETERS\n",
        "total_params = sum(p.numel() for p in model.parameters() if p.requires_grad)\n",
        "\n",
        "print('The total number of parameters for ResNet 20 is: {}'.format(total_params))"
      ],
      "execution_count": null,
      "outputs": [
        {
          "output_type": "stream",
          "text": [
            "The total number of parameters for ResNet 20 is: 273258\n"
          ],
          "name": "stdout"
        }
      ]
    },
    {
      "cell_type": "markdown",
      "metadata": {
        "id": "t10DhVy0m-3O"
      },
      "source": [
        "<br><br><br><br><br><br><br><br><br><br><br><br><br><br>\n"
      ]
    },
    {
      "cell_type": "code",
      "metadata": {
        "colab": {
          "base_uri": "https://localhost:8080/",
          "height": 221
        },
        "id": "CkeutW8FNZ8w",
        "outputId": "38c6e4a9-996b-468e-c5bf-ebb88add33d6"
      },
      "source": [
        "model3 = ResNet(BasicBlock, layers = [3, 3, 3], img_channels = 3, num_classes = 10).to(device)\n",
        "criterion3 = nn.CrossEntropyLoss()\n",
        "#optimizer = torch.optim.SGD(model.parameters(), lr = learning_rate, weight_decay = 1e-4)\n",
        "optimizer3 = torch.optim.Adam(model3.parameters(), lr = 0.001, weight_decay = 1e-3)\n",
        "\n",
        "#scheduler2 = StepLR(optimizer2, step_size = 10, gamma = 0.1)\n",
        "scheduler3 = ReduceLROnPlateau(optimizer3, 'min', patience = 5)\n",
        "\n",
        "history3 = training_loop(train_loader, optimizer3, model3, criterion3, validation_loader = val_loader, \n",
        "                        scheduler = scheduler3, batch_size = 128, max_epochs = 60)"
      ],
      "execution_count": null,
      "outputs": [
        {
          "output_type": "error",
          "ename": "NameError",
          "evalue": "ignored",
          "traceback": [
            "\u001b[0;31m---------------------------------------------------------------------------\u001b[0m",
            "\u001b[0;31mNameError\u001b[0m                                 Traceback (most recent call last)",
            "\u001b[0;32m<ipython-input-14-ab901e75e2c2>\u001b[0m in \u001b[0;36m<module>\u001b[0;34m()\u001b[0m\n\u001b[1;32m      7\u001b[0m \u001b[0mscheduler3\u001b[0m \u001b[0;34m=\u001b[0m \u001b[0mReduceLROnPlateau\u001b[0m\u001b[0;34m(\u001b[0m\u001b[0moptimizer3\u001b[0m\u001b[0;34m,\u001b[0m \u001b[0;34m'min'\u001b[0m\u001b[0;34m,\u001b[0m \u001b[0mpatience\u001b[0m \u001b[0;34m=\u001b[0m \u001b[0;36m5\u001b[0m\u001b[0;34m)\u001b[0m\u001b[0;34m\u001b[0m\u001b[0;34m\u001b[0m\u001b[0m\n\u001b[1;32m      8\u001b[0m \u001b[0;34m\u001b[0m\u001b[0m\n\u001b[0;32m----> 9\u001b[0;31m history3 = training_loop(train_loader, optimizer3, model3, criterion3, validation_loader = val_loader, \n\u001b[0m\u001b[1;32m     10\u001b[0m                         scheduler = scheduler3, batch_size = 128, max_epochs = 60)\n",
            "\u001b[0;31mNameError\u001b[0m: name 'training_loop' is not defined"
          ]
        }
      ]
    },
    {
      "cell_type": "code",
      "metadata": {
        "colab": {
          "base_uri": "https://localhost:8080/"
        },
        "id": "q3E36sA5ZGSp",
        "outputId": "3145df28-7e4f-44d6-f45a-b196873662db"
      },
      "source": [
        "#TESTING \n",
        "correct = 0\n",
        "total = 0\n",
        "\n",
        "\n",
        "with torch.no_grad():\n",
        "    model2.eval()\n",
        "    for images, labels in test_loader:\n",
        "        if torch.cuda.is_available():\n",
        "            batch = images.to(device)\n",
        "            labels = labels.to(device)\n",
        "            \n",
        "            batch_size = images.shape[0]\n",
        "            outputs = model3(batch)\n",
        "            _, predictions = outputs.max(1)\n",
        "            correct += int((predictions == labels).sum())\n",
        "            total += batch_size\n",
        "\n",
        "print('Accuracy {:.4f}'.format(correct / total))\n"
      ],
      "execution_count": null,
      "outputs": [
        {
          "output_type": "stream",
          "text": [
            "Accuracy 0.7936\n"
          ],
          "name": "stdout"
        }
      ]
    },
    {
      "cell_type": "code",
      "metadata": {
        "colab": {
          "base_uri": "https://localhost:8080/",
          "height": 513
        },
        "id": "_InhVRITZJ0e",
        "outputId": "3316981e-6dba-43c4-8fb3-152521e10783"
      },
      "source": [
        "loss3 = history3['loss']\n",
        "accuracy3= history3['accuracy']\n",
        "val_loss3 = history3['val_loss']\n",
        "val_accuracy3 = history3['val_accuracy']\n",
        "\n",
        "\n",
        "plt.figure(figsize = (10, 8))\n",
        "plt.plot(loss3, label = 'loss')\n",
        "plt.plot(accuracy3, label = 'accuracy')\n",
        "plt.plot(val_loss3, label = 'validation loss')\n",
        "plt.plot(val_accuracy3, label = 'validation accuracy')\n",
        "plt.title('The performance of the model with Adam optimizer')\n",
        "plt.xlabel('epochs')\n",
        "plt.legend(loc = 'best')\n",
        "plt.show()\n"
      ],
      "execution_count": null,
      "outputs": [
        {
          "output_type": "display_data",
          "data": {
            "image/png": "[encoded data removed]",
            "text/plain": [
              "<Figure size 720x576 with 1 Axes>"
            ]
          },
          "metadata": {
            "tags": [],
            "needs_background": "light"
          }
        }
      ]
    },
    {
      "cell_type": "markdown",
      "metadata": {
        "id": "nI9mXLV6XJP4"
      },
      "source": [
        "<br><br><br><br><br><br><br><br><br><br><br><br><br><br>\n",
        "***ResNet 32***"
      ]
    },
    {
      "cell_type": "code",
      "metadata": {
        "colab": {
          "base_uri": "https://localhost:8080/"
        },
        "id": "zt7GfocuXIki",
        "outputId": "ec283289-df4e-41d9-87eb-d7172e927b36"
      },
      "source": [
        "model2 = ResNet(BasicBlock, layers = [5, 5, 5], img_channels = 3, num_classes = 10).to(device)\n",
        "criterion2 = nn.CrossEntropyLoss()\n",
        "#optimizer = torch.optim.SGD(model.parameters(), lr = learning_rate, weight_decay = 1e-4)\n",
        "optimizer2 = torch.optim.Adam(model2.parameters(), lr = 0.001, weight_decay = 1e-3)\n",
        "\n",
        "#scheduler2 = StepLR(optimizer2, step_size = 10, gamma = 0.1)\n",
        "scheduler2 = ReduceLROnPlateau(optimizer2, 'min', patience = 10)\n",
        "\n",
        "history2 = training_loop(train_loader, optimizer2, model2, criterion2, validation_loader = val_loader, \n",
        "                        scheduler = scheduler2, batch_size = 128, max_epochs = 60)\n",
        "\n"
      ],
      "execution_count": null,
      "outputs": [
        {
          "output_type": "stream",
          "text": [
            "Epoch [1/60], Training Accuracy [0.4428], Training Loss: 1.5003\t, Validation accuracy [0.4052], Validation Loss: 2.0622\n",
            "Epoch [2/60], Training Accuracy [0.2948], Training Loss: 1.9241\t, Validation accuracy [0.4133], Validation Loss: 1.5784\n",
            "Epoch [3/60], Training Accuracy [0.4395], Training Loss: 1.5159\t, Validation accuracy [0.4796], Validation Loss: 1.3951\n",
            "Epoch [4/60], Training Accuracy [0.5008], Training Loss: 1.3594\t, Validation accuracy [0.5413], Validation Loss: 1.2500\n",
            "Epoch [5/60], Training Accuracy [0.5401], Training Loss: 1.2562\t, Validation accuracy [0.5603], Validation Loss: 1.1945\n",
            "Epoch [6/60], Training Accuracy [0.5717], Training Loss: 1.1706\t, Validation accuracy [0.5958], Validation Loss: 1.1068\n",
            "Epoch [7/60], Training Accuracy [0.5965], Training Loss: 1.1078\t, Validation accuracy [0.5715], Validation Loss: 1.1619\n",
            "Epoch [8/60], Training Accuracy [0.6243], Training Loss: 1.0442\t, Validation accuracy [0.6342], Validation Loss: 1.0035\n",
            "Epoch [9/60], Training Accuracy [0.6404], Training Loss: 0.9966\t, Validation accuracy [0.6368], Validation Loss: 1.0080\n",
            "Epoch [10/60], Training Accuracy [0.6557], Training Loss: 0.9589\t, Validation accuracy [0.6426], Validation Loss: 0.9775\n",
            "Epoch [11/60], Training Accuracy [0.6685], Training Loss: 0.9221\t, Validation accuracy [0.6569], Validation Loss: 0.9538\n",
            "Epoch [12/60], Training Accuracy [0.6814], Training Loss: 0.8905\t, Validation accuracy [0.6735], Validation Loss: 0.9022\n",
            "Epoch [13/60], Training Accuracy [0.6913], Training Loss: 0.8649\t, Validation accuracy [0.6777], Validation Loss: 0.8826\n",
            "Epoch [14/60], Training Accuracy [0.7021], Training Loss: 0.8415\t, Validation accuracy [0.6767], Validation Loss: 0.8924\n",
            "Epoch [15/60], Training Accuracy [0.7070], Training Loss: 0.8230\t, Validation accuracy [0.6979], Validation Loss: 0.8521\n",
            "Epoch [16/60], Training Accuracy [0.7166], Training Loss: 0.8028\t, Validation accuracy [0.7019], Validation Loss: 0.8252\n",
            "Epoch [17/60], Training Accuracy [0.7224], Training Loss: 0.7798\t, Validation accuracy [0.7071], Validation Loss: 0.7969\n",
            "Epoch [18/60], Training Accuracy [0.7263], Training Loss: 0.7701\t, Validation accuracy [0.7137], Validation Loss: 0.7916\n",
            "Epoch [19/60], Training Accuracy [0.7326], Training Loss: 0.7531\t, Validation accuracy [0.7258], Validation Loss: 0.7796\n",
            "Epoch [20/60], Training Accuracy [0.7374], Training Loss: 0.7385\t, Validation accuracy [0.7177], Validation Loss: 0.7926\n",
            "Epoch [21/60], Training Accuracy [0.7417], Training Loss: 0.7273\t, Validation accuracy [0.7332], Validation Loss: 0.7536\n",
            "Epoch [22/60], Training Accuracy [0.7487], Training Loss: 0.7107\t, Validation accuracy [0.7388], Validation Loss: 0.7408\n",
            "Epoch [23/60], Training Accuracy [0.7523], Training Loss: 0.6995\t, Validation accuracy [0.7204], Validation Loss: 0.7775\n",
            "Epoch [24/60], Training Accuracy [0.7607], Training Loss: 0.6767\t, Validation accuracy [0.7418], Validation Loss: 0.7406\n",
            "Epoch [25/60], Training Accuracy [0.7610], Training Loss: 0.6738\t, Validation accuracy [0.7099], Validation Loss: 0.8187\n",
            "Epoch [26/60], Training Accuracy [0.7695], Training Loss: 0.6522\t, Validation accuracy [0.7284], Validation Loss: 0.7677\n",
            "Epoch [27/60], Training Accuracy [0.7752], Training Loss: 0.6433\t, Validation accuracy [0.7336], Validation Loss: 0.7592\n",
            "Epoch [28/60], Training Accuracy [0.7731], Training Loss: 0.6391\t, Validation accuracy [0.7484], Validation Loss: 0.7196\n",
            "Epoch [29/60], Training Accuracy [0.7811], Training Loss: 0.6210\t, Validation accuracy [0.7504], Validation Loss: 0.7131\n",
            "Epoch [30/60], Training Accuracy [0.7852], Training Loss: 0.6125\t, Validation accuracy [0.7438], Validation Loss: 0.7226\n",
            "Epoch [31/60], Training Accuracy [0.7861], Training Loss: 0.6060\t, Validation accuracy [0.7552], Validation Loss: 0.6932\n",
            "Epoch [32/60], Training Accuracy [0.7888], Training Loss: 0.6018\t, Validation accuracy [0.7636], Validation Loss: 0.6823\n",
            "Epoch [33/60], Training Accuracy [0.7931], Training Loss: 0.5872\t, Validation accuracy [0.7728], Validation Loss: 0.6596\n",
            "Epoch [34/60], Training Accuracy [0.7967], Training Loss: 0.5804\t, Validation accuracy [0.7658], Validation Loss: 0.6790\n",
            "Epoch [35/60], Training Accuracy [0.7973], Training Loss: 0.5731\t, Validation accuracy [0.7486], Validation Loss: 0.7315\n",
            "Epoch [36/60], Training Accuracy [0.8009], Training Loss: 0.5670\t, Validation accuracy [0.7839], Validation Loss: 0.6427\n",
            "Epoch [37/60], Training Accuracy [0.8007], Training Loss: 0.5662\t, Validation accuracy [0.7720], Validation Loss: 0.6683\n",
            "Epoch [38/60], Training Accuracy [0.8080], Training Loss: 0.5468\t, Validation accuracy [0.7494], Validation Loss: 0.7335\n",
            "Epoch [39/60], Training Accuracy [0.8110], Training Loss: 0.5411\t, Validation accuracy [0.7696], Validation Loss: 0.6608\n",
            "Epoch [40/60], Training Accuracy [0.8113], Training Loss: 0.5360\t, Validation accuracy [0.7722], Validation Loss: 0.6828\n",
            "Epoch [41/60], Training Accuracy [0.8142], Training Loss: 0.5277\t, Validation accuracy [0.7706], Validation Loss: 0.6779\n",
            "Epoch [42/60], Training Accuracy [0.8179], Training Loss: 0.5156\t, Validation accuracy [0.7770], Validation Loss: 0.6468\n",
            "Epoch [43/60], Training Accuracy [0.8178], Training Loss: 0.5190\t, Validation accuracy [0.7794], Validation Loss: 0.6700\n",
            "Epoch [44/60], Training Accuracy [0.8229], Training Loss: 0.5059\t, Validation accuracy [0.7857], Validation Loss: 0.6441\n",
            "Epoch [45/60], Training Accuracy [0.8224], Training Loss: 0.5051\t, Validation accuracy [0.7804], Validation Loss: 0.6553\n",
            "Epoch [46/60], Training Accuracy [0.8258], Training Loss: 0.4931\t, Validation accuracy [0.7798], Validation Loss: 0.6469\n",
            "Epoch [47/60], Training Accuracy [0.8266], Training Loss: 0.4916\t, Validation accuracy [0.7654], Validation Loss: 0.6993\n",
            "Epoch [48/60], Training Accuracy [0.8697], Training Loss: 0.3789\t, Validation accuracy [0.7995], Validation Loss: 0.6088\n",
            "Epoch [49/60], Training Accuracy [0.8741], Training Loss: 0.3624\t, Validation accuracy [0.7993], Validation Loss: 0.6078\n",
            "Epoch [50/60], Training Accuracy [0.8761], Training Loss: 0.3557\t, Validation accuracy [0.7989], Validation Loss: 0.6097\n",
            "Epoch [51/60], Training Accuracy [0.8792], Training Loss: 0.3516\t, Validation accuracy [0.7995], Validation Loss: 0.6127\n",
            "Epoch [52/60], Training Accuracy [0.8803], Training Loss: 0.3466\t, Validation accuracy [0.8005], Validation Loss: 0.6115\n",
            "Epoch [53/60], Training Accuracy [0.8819], Training Loss: 0.3450\t, Validation accuracy [0.7961], Validation Loss: 0.6172\n",
            "Epoch [54/60], Training Accuracy [0.8825], Training Loss: 0.3398\t, Validation accuracy [0.7967], Validation Loss: 0.6176\n",
            "Epoch [55/60], Training Accuracy [0.8833], Training Loss: 0.3370\t, Validation accuracy [0.7935], Validation Loss: 0.6251\n",
            "Epoch [56/60], Training Accuracy [0.8844], Training Loss: 0.3337\t, Validation accuracy [0.7979], Validation Loss: 0.6253\n",
            "Epoch [57/60], Training Accuracy [0.8871], Training Loss: 0.3314\t, Validation accuracy [0.7969], Validation Loss: 0.6361\n",
            "Epoch [58/60], Training Accuracy [0.8869], Training Loss: 0.3290\t, Validation accuracy [0.7941], Validation Loss: 0.6223\n",
            "Epoch [59/60], Training Accuracy [0.8878], Training Loss: 0.3237\t, Validation accuracy [0.7959], Validation Loss: 0.6271\n",
            "Epoch [60/60], Training Accuracy [0.8889], Training Loss: 0.3216\t, Validation accuracy [0.7977], Validation Loss: 0.6276\n"
          ],
          "name": "stdout"
        }
      ]
    },
    {
      "cell_type": "code",
      "metadata": {
        "colab": {
          "base_uri": "https://localhost:8080/"
        },
        "id": "1bkjTa1Pcm5-",
        "outputId": "e61b29a6-adfd-4414-aa66-1fd6bbdf1e86"
      },
      "source": [
        "#TRAINABLE PARAMETERS\n",
        "total_params = sum(p.numel() for p in model2.parameters() if p.requires_grad)\n",
        "\n",
        "print('The total number of parameters for ResNet 32 is: {}'.format(total_params))"
      ],
      "execution_count": null,
      "outputs": [
        {
          "output_type": "stream",
          "text": [
            "The total number of parameters for ResNet 32 is: 488618\n"
          ],
          "name": "stdout"
        }
      ]
    },
    {
      "cell_type": "code",
      "metadata": {
        "colab": {
          "base_uri": "https://localhost:8080/"
        },
        "id": "m_gKxmrNeAYJ",
        "outputId": "4e3d6e62-eefe-4592-eef3-58fd4a878493"
      },
      "source": [
        "#TESTING \n",
        "correct = 0\n",
        "total = 0\n",
        "\n",
        "\n",
        "with torch.no_grad():\n",
        "    model2.eval()\n",
        "    for images, labels in test_loader:\n",
        "        if torch.cuda.is_available():\n",
        "            batch = images.to(device)\n",
        "            labels = labels.to(device)\n",
        "            \n",
        "            batch_size = images.shape[0]\n",
        "            outputs = model2(batch)\n",
        "            _, predictions = outputs.max(1)\n",
        "            correct += int((predictions == labels).sum())\n",
        "            total += batch_size\n",
        "\n",
        "print('Accuracy {:.4f}'.format(correct / total))\n"
      ],
      "execution_count": null,
      "outputs": [
        {
          "output_type": "stream",
          "text": [
            "Accuracy 0.7943\n"
          ],
          "name": "stdout"
        }
      ]
    },
    {
      "cell_type": "code",
      "metadata": {
        "colab": {
          "base_uri": "https://localhost:8080/",
          "height": 513
        },
        "id": "PtDnK2i4d2Ll",
        "outputId": "2434de58-6865-489d-a467-05d275492192"
      },
      "source": [
        "loss2 = history2['loss']\n",
        "accuracy2= history2['accuracy']\n",
        "val_loss2 = history2['val_loss']\n",
        "val_accuracy2 = history2['val_accuracy']\n",
        "\n",
        "\n",
        "plt.figure(figsize = (10, 8))\n",
        "plt.plot(loss2, label = 'loss')\n",
        "plt.plot(accuracy2, label = 'accuracy')\n",
        "plt.plot(val_loss2, label = 'validation loss')\n",
        "plt.plot(val_accuracy2, label = 'validation accuracy')\n",
        "plt.title('The performance of the model with Adam optimizer')\n",
        "plt.xlabel('epochs')\n",
        "plt.legend(loc = 'best')\n",
        "plt.show()\n"
      ],
      "execution_count": null,
      "outputs": [
        {
          "output_type": "display_data",
          "data": {
            "image/png": "[encoded data removed]",
            "text/plain": [
              "<Figure size 720x576 with 1 Axes>"
            ]
          },
          "metadata": {
            "tags": [],
            "needs_background": "light"
          }
        }
      ]
    },
    {
      "cell_type": "markdown",
      "metadata": {
        "id": "1xe7W2xrgCpp"
      },
      "source": [
        "<br><br><br><br><br><br><br><br><br><br><br><br><br><br><br><br><br><br><br><br><br>\n",
        "***Scratch***"
      ]
    },
    {
      "cell_type": "code",
      "metadata": {
        "id": "zbb6oDbsVqv-"
      },
      "source": [
        "#TESTING \n",
        "correct = 0\n",
        "total = 0\n",
        "features_data = []\n",
        "predicted_labels = []\n",
        "\n",
        "with torch.no_grad():\n",
        "    model.eval()\n",
        "    for i, (images, labels) in enumerate(test_loader):\n",
        "        batch_size = images.shape[0]\n",
        "        saved_features, outputs = model(images)\n",
        "        _, predictions = outputs.max(1)\n",
        "        \n",
        "        features_data.append(saved_features) #APPENDING DATA AT EACH ITERATION\n",
        "        predicted_labels.append(predictions) #APPENDING LABELS AT EACH ITERATION\n",
        "        corrects += int(predcitions == labels).sum()\n",
        "        total += batch_size\n",
        "\n",
        "print('Accuracy {:.2f}'.format(correct / total))\n",
        "\n",
        "\n",
        "final_data = torch.cat(features_data, dim = 0)\n",
        "final_labels = torch.unsqueeze(final_labels, dim = 1)\n",
        "\n",
        "concatenated_data = torch.cat((final_data, final_labels), dim = 1)\n",
        "\n"
      ],
      "execution_count": null,
      "outputs": []
    },
    {
      "cell_type": "code",
      "metadata": {
        "colab": {
          "base_uri": "https://localhost:8080/"
        },
        "id": "XZd7bQ8NV-DQ",
        "outputId": "da373d0b-84eb-439c-fc5f-f3347c245fd5"
      },
      "source": [
        "z = torch.arange(12)\n",
        "z1 = z.view(4, -1)\n",
        "print(z)\n",
        "print(z1)"
      ],
      "execution_count": null,
      "outputs": [
        {
          "output_type": "stream",
          "text": [
            "tensor([ 0,  1,  2,  3,  4,  5,  6,  7,  8,  9, 10, 11])\n",
            "tensor([[ 0,  1,  2],\n",
            "        [ 3,  4,  5],\n",
            "        [ 6,  7,  8],\n",
            "        [ 9, 10, 11]])\n"
          ],
          "name": "stdout"
        }
      ]
    },
    {
      "cell_type": "code",
      "metadata": {
        "id": "Bs1MsTUfV-TN"
      },
      "source": [
        "#TENSOR IMAGE\n",
        "#cifar10_tensor[1]"
      ],
      "execution_count": null,
      "outputs": []
    },
    {
      "cell_type": "code",
      "metadata": {
        "id": "ABmEZvLXgaBI"
      },
      "source": [
        "#RAW IMAGE\n",
        "#cifar10[1]\n",
        "\n"
      ],
      "execution_count": null,
      "outputs": []
    },
    {
      "cell_type": "code",
      "metadata": {
        "colab": {
          "base_uri": "https://localhost:8080/"
        },
        "id": "MFnZQstBir0o",
        "outputId": "9953f67f-2951-4499-97e5-4a202e2b09c8"
      },
      "source": [
        "# Your procedeure\n",
        "model1 = ResNet(BasicBlock, [3, 3, 3], img_channels = 3, num_classes = 10)\n",
        "\n",
        "\n",
        "#mine = torch.empty((10, 64))\n",
        "my_data = []\n",
        "my_labels = []\n",
        "\n",
        "for i in range(10):\n",
        "    input1 = torch.randn(2, 3, 32, 32)\n",
        "    saved_f, output = model2(input1, save_features = True)\n",
        "    _, pred_labels = output.max(1)\n",
        "    my_data.append(saved_f)\n",
        "    my_labels.append(pred_labels)\n",
        "\n",
        "\n",
        "\n",
        "final_data = torch.cat(my_data, dim = 0)\n",
        "\n",
        "final_labels = torch.cat(my_labels, dim = 0)\n",
        "final_labels = torch.unsqueeze(final_labels, dim = 1)\n",
        "\n",
        "\n",
        "torch.cat((final_data, final_labels), dim = 1).shape"
      ],
      "execution_count": null,
      "outputs": [
        {
          "output_type": "execute_result",
          "data": {
            "text/plain": [
              "torch.Size([20, 65])"
            ]
          },
          "metadata": {
            "tags": []
          },
          "execution_count": 174
        }
      ]
    },
    {
      "cell_type": "code",
      "metadata": {
        "id": "OEjWHmbnHSl9"
      },
      "source": [
        "final_data = torch.stack(my_data, dim = 1)\n",
        "final_data = torch.squeeze(final_data)\n",
        "\n",
        "final_labels = torch.stack(my_labels, dim = 0)\n",
        "\n",
        "torch.cat((final_data, final_labels), dim = 1).shape"
      ],
      "execution_count": null,
      "outputs": []
    },
    {
      "cell_type": "code",
      "metadata": {
        "id": "UF7ublDVhCje"
      },
      "source": [
        "new_labels = torch.unsqueeze(labels1, dim = 1)\n",
        "cat1 = torch.cat((features, new_labels), dim = 1)\n",
        "\n",
        "cat1"
      ],
      "execution_count": null,
      "outputs": []
    },
    {
      "cell_type": "code",
      "metadata": {
        "id": "l8Tlz08snaXW"
      },
      "source": [
        "a = torch.Tensor([[1, 2, 3], \n",
        "                  [4, 5, 6], \n",
        "                  [7, 8, 9]])\n",
        "\n",
        "b = torch.Tensor([[1, 0, 0]])\n",
        "c = torch.randn(2, 64)\n",
        "\n",
        "d = torch.Tensor([[1], [0]])\n",
        "\n",
        "f = torch.cat((c, d), dim = 1)\n"
      ],
      "execution_count": null,
      "outputs": []
    },
    {
      "cell_type": "code",
      "metadata": {
        "id": "babu9dWv05Y2"
      },
      "source": [
        "#SAVING THE MODEL\n",
        "model_save_name = 'resnet20.pt'\n",
        "path = F\"/content/gdrive/My Drive/{model_save_name}\" \n",
        "torch.save(model.state_dict(), path)\n",
        "\n",
        "\n",
        "#LOADING YOUR MODEL (first make sure that your google drive is mounted)\n",
        "model_save_name = 'classifier.pt'\n",
        "path = F\"/content/gdrive/My Drive/{model_save_name}\"\n",
        "model.load_state_dict(torch.load(path))"
      ],
      "execution_count": null,
      "outputs": []
    },
    {
      "cell_type": "code",
      "metadata": {
        "colab": {
          "base_uri": "https://localhost:8080/"
        },
        "id": "weVh2iVOxe0-",
        "outputId": "313e2987-eda6-4bf6-a196-e175710cb3fb"
      },
      "source": [
        "labels1 = torch.cat(labels, dim = 0)\n",
        "labels2 = np.array(labels1)\n",
        "count, values = np.unique(labels2, return_counts = True)\n",
        "print(count)\n",
        "print(values)\n"
      ],
      "execution_count": null,
      "outputs": [
        {
          "output_type": "stream",
          "text": [
            "[0 1 2 3 4 5 6 7 8 9]\n",
            "[475 492 531 503 488 514 496 494 502 505]\n"
          ],
          "name": "stdout"
        }
      ]
    }
  ]
}